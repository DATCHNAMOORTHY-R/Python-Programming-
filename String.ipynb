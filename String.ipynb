{
 "cells": [
  {
   "cell_type": "code",
   "execution_count": 2,
   "id": "9032fb1a-736d-42d6-931b-b744818b1fce",
   "metadata": {},
   "outputs": [
    {
     "name": "stdout",
     "output_type": "stream",
     "text": [
      "datchnamoorthy\n"
     ]
    }
   ],
   "source": [
    "#double quotes string \n",
    "text = \"hi how are you\"\n",
    "print(text)"
   ]
  },
  {
   "cell_type": "code",
   "execution_count": 3,
   "id": "e04b092c-6c6b-4f62-8375-4f62061f2abc",
   "metadata": {},
   "outputs": [
    {
     "name": "stdout",
     "output_type": "stream",
     "text": [
      "hi how are you\n"
     ]
    }
   ],
   "source": [
    "#single quotes string \n",
    "text = 'hi how are you'\n",
    "print(text)"
   ]
  },
  {
   "cell_type": "code",
   "execution_count": 4,
   "id": "7015c9ac-aaed-441d-9f01-558fc2993ceb",
   "metadata": {},
   "outputs": [
    {
     "ename": "SyntaxError",
     "evalue": "unterminated string literal (detected at line 1) (3301017669.py, line 1)",
     "output_type": "error",
     "traceback": [
      "\u001b[1;36m  Cell \u001b[1;32mIn[4], line 1\u001b[1;36m\u001b[0m\n\u001b[1;33m    text = 'hi how are you\u001b[0m\n\u001b[1;37m           ^\u001b[0m\n\u001b[1;31mSyntaxError\u001b[0m\u001b[1;31m:\u001b[0m unterminated string literal (detected at line 1)\n"
     ]
    }
   ],
   "source": [
    "text = 'hi how are you\n",
    "        '\n",
    "print(text)"
   ]
  },
  {
   "cell_type": "code",
   "execution_count": 5,
   "id": "ff36378e-c86c-43ea-ae75-d94e7ee40066",
   "metadata": {},
   "outputs": [
    {
     "name": "stdout",
     "output_type": "stream",
     "text": [
      "Python is an interpreted, object-oriented, high-level programming language with dynamic semantics. \n",
      "            It was created by Guido van Rossum and first released in 1991. Python's design philosophy emphasizes code readability and simplicity, \n",
      "            making it an excellent choice for both beginners and experienced developers\n"
     ]
    }
   ],
   "source": [
    "#multi line string\n",
    "text = \"\"\"Python is an interpreted, object-oriented, high-level programming language with dynamic semantics. \n",
    "            It was created by Guido van Rossum and first released in 1991. Python's design philosophy emphasizes code readability and simplicity, \n",
    "            making it an excellent choice for both beginners and experienced developers\"\"\"\n",
    "print(text)"
   ]
  },
  {
   "cell_type": "code",
   "execution_count": 14,
   "id": "8728aacf-432e-44a6-89cc-3955736efc4f",
   "metadata": {},
   "outputs": [
    {
     "name": "stdout",
     "output_type": "stream",
     "text": [
      "p\n",
      "y\n",
      "t\n",
      "h\n",
      "o\n",
      "n\n"
     ]
    }
   ],
   "source": [
    "#To find length of string \n",
    "a = \"python\"  #postive indexing \n",
    "print(a[0])\n",
    "print(a[1])\n",
    "print(a[2])\n",
    "print(a[3])\n",
    "print(a[4])\n",
    "print(a[5])"
   ]
  },
  {
   "cell_type": "code",
   "execution_count": 15,
   "id": "52b93aa9-b726-45ad-9fb2-59d7123f91f7",
   "metadata": {},
   "outputs": [
    {
     "name": "stdout",
     "output_type": "stream",
     "text": [
      "n\n",
      "o\n",
      "h\n",
      "t\n",
      "y\n",
      "p\n"
     ]
    }
   ],
   "source": [
    "#To find length of string \n",
    "a = \"python\"  #negative indexing \n",
    "print(a[-1])\n",
    "print(a[-2])\n",
    "print(a[-3])\n",
    "print(a[-4])\n",
    "print(a[-5])\n",
    "print(a[-6])"
   ]
  },
  {
   "cell_type": "code",
   "execution_count": 25,
   "id": "0f7e3568-d41b-439d-9424-59f0145f3c37",
   "metadata": {},
   "outputs": [
    {
     "name": "stdout",
     "output_type": "stream",
     "text": [
      "python\n",
      "programming\n"
     ]
    }
   ],
   "source": [
    "#string slicing\n",
    "a = \"python programming\"   #positive slicing\n",
    "print(a[0:6])\n",
    "print(a[7:18])"
   ]
  },
  {
   "cell_type": "code",
   "execution_count": 32,
   "id": "519aa2d3-719a-4cb9-9a43-4cb1e0d66835",
   "metadata": {},
   "outputs": [
    {
     "name": "stdout",
     "output_type": "stream",
     "text": [
      "programming\n",
      "python\n"
     ]
    }
   ],
   "source": [
    "#string slicing\n",
    "a = \"python programming\"   #negative slicing\n",
    "print(a[-11:])\n",
    "print(a[-19:-12])"
   ]
  },
  {
   "cell_type": "code",
   "execution_count": null,
   "id": "403aeac3-1f39-4d60-ab85-1e2768688b18",
   "metadata": {},
   "outputs": [],
   "source": []
  }
 ],
 "metadata": {
  "kernelspec": {
   "display_name": "Python 3 (ipykernel)",
   "language": "python",
   "name": "python3"
  },
  "language_info": {
   "codemirror_mode": {
    "name": "ipython",
    "version": 3
   },
   "file_extension": ".py",
   "mimetype": "text/x-python",
   "name": "python",
   "nbconvert_exporter": "python",
   "pygments_lexer": "ipython3",
   "version": "3.12.7"
  }
 },
 "nbformat": 4,
 "nbformat_minor": 5
}
