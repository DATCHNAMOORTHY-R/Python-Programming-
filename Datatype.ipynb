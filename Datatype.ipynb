{
 "cells": [
  {
   "cell_type": "code",
   "execution_count": 2,
   "id": "44756926-8a04-4e6c-88bd-0d9130e81e39",
   "metadata": {},
   "outputs": [
    {
     "name": "stdout",
     "output_type": "stream",
     "text": [
      "hi\n",
      "<class 'str'>\n"
     ]
    }
   ],
   "source": [
    "a = \"hi\"\n",
    "print(a)\n",
    "print(type(a))"
   ]
  },
  {
   "cell_type": "code",
   "execution_count": 3,
   "id": "f39597f6-f168-447a-9e96-719a4e4fe8c9",
   "metadata": {},
   "outputs": [
    {
     "name": "stdout",
     "output_type": "stream",
     "text": [
      "5\n",
      "<class 'int'>\n"
     ]
    }
   ],
   "source": [
    "b = 5\n",
    "print(b)\n",
    "print(type(b))"
   ]
  },
  {
   "cell_type": "code",
   "execution_count": 4,
   "id": "7325e102-fba2-45c4-9bcd-9f6607e5ce84",
   "metadata": {},
   "outputs": [
    {
     "name": "stdout",
     "output_type": "stream",
     "text": [
      "4.5\n",
      "<class 'float'>\n"
     ]
    }
   ],
   "source": [
    "c = 4.5\n",
    "print(c)\n",
    "print(type(c))"
   ]
  },
  {
   "cell_type": "code",
   "execution_count": 6,
   "id": "e963fed4-3256-4ccc-91b9-0d958f9d747d",
   "metadata": {},
   "outputs": [
    {
     "name": "stdout",
     "output_type": "stream",
     "text": [
      "(1+2j)\n",
      "<class 'complex'>\n"
     ]
    }
   ],
   "source": [
    "d = 1+2j\n",
    "print(d)\n",
    "print(type(d))"
   ]
  },
  {
   "cell_type": "code",
   "execution_count": 16,
   "id": "dba9a6a8-36e9-4ac7-a2cf-a484e17ae015",
   "metadata": {},
   "outputs": [
    {
     "name": "stdout",
     "output_type": "stream",
     "text": [
      "24\n",
      "<class 'int'>\n",
      "24.0\n",
      "<class 'float'>\n",
      "24\n",
      "<class 'str'>\n",
      "(24+0j)\n",
      "<class 'complex'>\n"
     ]
    }
   ],
   "source": [
    "#type casting of int \n",
    "num = 24\n",
    "print(num) \n",
    "print(type(num))\n",
    "num1 = float(num)\n",
    "print(num1)\n",
    "print(type(num1))\n",
    "num2 = str(num)\n",
    "print(num2)\n",
    "print(type(num2))\n",
    "num3 = complex(num)\n",
    "print(num3)\n",
    "print(type(num3))"
   ]
  },
  {
   "cell_type": "code",
   "execution_count": 26,
   "id": "9d63c3fd-2a31-4f61-b7e3-0abb35b7f18e",
   "metadata": {},
   "outputs": [
    {
     "name": "stdout",
     "output_type": "stream",
     "text": [
      "12.54\n",
      "<class 'float'>\n",
      "12\n",
      "<class 'int'>\n",
      "12.54\n",
      "<class 'str'>\n",
      "(12.54+0j)\n",
      "<class 'complex'>\n"
     ]
    }
   ],
   "source": [
    "#type casting of float\n",
    "dec = 12.54\n",
    "print(dec) \n",
    "print(type(dec))\n",
    "dec1 = int(12.54)\n",
    "print(dec1)\n",
    "print(type(dec1))\n",
    "dec2 = str(12.54)\n",
    "print(dec2)\n",
    "print(type(dec2))\n",
    "dec3 = complex(12.54)\n",
    "print(dec3)\n",
    "print(type(dec3))"
   ]
  },
  {
   "cell_type": "code",
   "execution_count": 27,
   "id": "daa7c403-4780-42bc-ac59-94be530e45ac",
   "metadata": {},
   "outputs": [
    {
     "name": "stdout",
     "output_type": "stream",
     "text": [
      "(1+2j)\n",
      "<class 'complex'>\n"
     ]
    }
   ],
   "source": [
    "#type casting of complex\n",
    "comp = 1+2j\n",
    "print(comp)\n",
    "print(type(comp))"
   ]
  },
  {
   "cell_type": "code",
   "execution_count": 30,
   "id": "6d4f4ad4-edb6-48f5-9e63-35252d73248b",
   "metadata": {},
   "outputs": [
    {
     "ename": "TypeError",
     "evalue": "int() argument must be a string, a bytes-like object or a real number, not 'complex'",
     "output_type": "error",
     "traceback": [
      "\u001b[1;31m---------------------------------------------------------------------------\u001b[0m",
      "\u001b[1;31mTypeError\u001b[0m                                 Traceback (most recent call last)",
      "Cell \u001b[1;32mIn[30], line 1\u001b[0m\n\u001b[1;32m----> 1\u001b[0m comp1 \u001b[38;5;241m=\u001b[39m \u001b[38;5;28mint\u001b[39m(comp)\n\u001b[0;32m      2\u001b[0m \u001b[38;5;28mprint\u001b[39m(comp1)\n\u001b[0;32m      3\u001b[0m \u001b[38;5;28mprint\u001b[39m(\u001b[38;5;28mtype\u001b[39m(comp))\n",
      "\u001b[1;31mTypeError\u001b[0m: int() argument must be a string, a bytes-like object or a real number, not 'complex'"
     ]
    }
   ],
   "source": [
    "comp1 = int(comp)\n",
    "print(comp1)\n",
    "print(type(comp))"
   ]
  },
  {
   "cell_type": "code",
   "execution_count": 41,
   "id": "205a9aeb-d31a-4ad6-9d96-46d868b93a69",
   "metadata": {},
   "outputs": [
    {
     "name": "stdout",
     "output_type": "stream",
     "text": [
      "1.0\n",
      "2.0\n",
      "1\n",
      "<class 'int'>\n",
      "2\n",
      "<class 'int'>\n"
     ]
    }
   ],
   "source": [
    "comp = 1+2j\n",
    "real = comp.real\n",
    "print(real)\n",
    "img = comp.imag\n",
    "print(img)\n",
    "value1 = int(real)\n",
    "print(value1)\n",
    "print(type(value1))\n",
    "value2 = int(img)\n",
    "print(value2)\n",
    "print(type(value2))"
   ]
  },
  {
   "cell_type": "code",
   "execution_count": 46,
   "id": "cdadac46-cc4f-415a-a8cc-26d5a467bc31",
   "metadata": {},
   "outputs": [
    {
     "name": "stdin",
     "output_type": "stream",
     "text": [
      "Enter the number :  2.4\n"
     ]
    },
    {
     "name": "stdout",
     "output_type": "stream",
     "text": [
      "<class 'float'>\n"
     ]
    }
   ],
   "source": [
    "num = float(input(\"Enter the number : \"))\n",
    "print(type(num))"
   ]
  },
  {
   "cell_type": "code",
   "execution_count": null,
   "id": "ed6943a9-e412-418b-a262-8a298f46a77e",
   "metadata": {},
   "outputs": [],
   "source": []
  },
  {
   "cell_type": "code",
   "execution_count": null,
   "id": "eb585a8a-ffb2-4f02-b8ff-bd57aa945ca6",
   "metadata": {},
   "outputs": [],
   "source": []
  }
 ],
 "metadata": {
  "kernelspec": {
   "display_name": "Python 3 (ipykernel)",
   "language": "python",
   "name": "python3"
  },
  "language_info": {
   "codemirror_mode": {
    "name": "ipython",
    "version": 3
   },
   "file_extension": ".py",
   "mimetype": "text/x-python",
   "name": "python",
   "nbconvert_exporter": "python",
   "pygments_lexer": "ipython3",
   "version": "3.12.7"
  }
 },
 "nbformat": 4,
 "nbformat_minor": 5
}
